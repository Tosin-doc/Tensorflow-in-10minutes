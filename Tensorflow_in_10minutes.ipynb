{
  "nbformat": 4,
  "nbformat_minor": 0,
  "metadata": {
    "kernelspec": {
      "display_name": "Python 3",
      "language": "python",
      "name": "python3"
    },
    "language_info": {
      "codemirror_mode": {
        "name": "ipython",
        "version": 3
      },
      "file_extension": ".py",
      "mimetype": "text/x-python",
      "name": "python",
      "nbconvert_exporter": "python",
      "pygments_lexer": "ipython3",
      "version": "3.7.9"
    },
    "colab": {
      "name": "Tensorflow in 10minutes.ipynb",
      "provenance": [],
      "include_colab_link": true
    },
    "accelerator": "GPU"
  },
  "cells": [
    {
      "cell_type": "markdown",
      "metadata": {
        "id": "view-in-github",
        "colab_type": "text"
      },
      "source": [
        "<a href=\"https://colab.research.google.com/github/Tosin-doc/Tensorflow-in-10minutes/blob/main/Tensorflow_in_10minutes.ipynb\" target=\"_parent\"><img src=\"https://colab.research.google.com/assets/colab-badge.svg\" alt=\"Open In Colab\"/></a>"
      ]
    },
    {
      "cell_type": "code",
      "metadata": {
        "id": "zAx2B1wKa9Ij"
      },
      "source": [
        "import tensorflow as tf"
      ],
      "execution_count": 1,
      "outputs": []
    },
    {
      "cell_type": "markdown",
      "metadata": {
        "id": "LEiRLdWBa9Il"
      },
      "source": [
        "# Common Use Operations"
      ]
    },
    {
      "cell_type": "code",
      "metadata": {
        "id": "PrxmJYDra9Im"
      },
      "source": [
        "#Making a constant tensor A, that does not change\n",
        "A = tf.constant([[3, 2],\n",
        "               [5, 2]])\n",
        "#Making a Variable tensor VA, which can change. \n",
        "VA = tf.Variable([[3, 2],\n",
        "                [5, 2]])\n",
        "#Making another tensor B\n",
        "B = tf.constant([[9, 5],\n",
        "               [1, 3]])"
      ],
      "execution_count": 2,
      "outputs": []
    },
    {
      "cell_type": "code",
      "metadata": {
        "colab": {
          "base_uri": "https://localhost:8080/"
        },
        "id": "Yj-jYTsha9In",
        "outputId": "768422c3-54ec-4a36-c5a0-45ad906692b4"
      },
      "source": [
        "#Concatenate columns\n",
        "AB_concatenated = tf.concat(values=[A, B], axis=1)\n",
        "print(('Adding B\\'s columns to A:\\n{0}').format(\n",
        "AB_concatenated.numpy()\n",
        "))\n",
        "\n",
        "#Concatenate rows\n",
        "AB_concatenated = tf.concat(values=[A, B], axis=0)\n",
        "print(('\\nAdding B\\'s rows to A:\\n{0}').format(\n",
        "AB_concatenated.numpy()\n",
        "))"
      ],
      "execution_count": 3,
      "outputs": [
        {
          "output_type": "stream",
          "text": [
            "Adding B's columns to A:\n",
            "[[3 2 9 5]\n",
            " [5 2 1 3]]\n",
            "\n",
            "Adding B's rows to A:\n",
            "[[3 2]\n",
            " [5 2]\n",
            " [9 5]\n",
            " [1 3]]\n"
          ],
          "name": "stdout"
        }
      ]
    },
    {
      "cell_type": "code",
      "metadata": {
        "colab": {
          "base_uri": "https://localhost:8080/"
        },
        "id": "GrBnZCMfa9In",
        "outputId": "52949181-edc0-4850-dca2-c0f683867d60"
      },
      "source": [
        "#Making a tensor filled with zeros. shape=[rows, columns]\n",
        "tensor = tf.zeros(shape=[3, 4], dtype=tf.int32)\n",
        "print(('Tensor full of zeros as int32, 3 rows and 4 columns:\\n{0}').format(\n",
        "    tensor.numpy()\n",
        "))\n",
        "\n",
        "#Making a tensor filled with zeros with data type of float32\n",
        "tensor = tf.ones(shape=[5, 3], dtype=tf.float32)\n",
        "print(('Tensor full of ones as float32, 5 rows and 3 columns:\\n{0}').format(\n",
        "    tensor.numpy()\n",
        "))"
      ],
      "execution_count": 4,
      "outputs": [
        {
          "output_type": "stream",
          "text": [
            "Tensor full of zeros as int32, 3 rows and 4 columns:\n",
            "[[0 0 0 0]\n",
            " [0 0 0 0]\n",
            " [0 0 0 0]]\n",
            "Tensor full of ones as float32, 5 rows and 3 columns:\n",
            "[[1. 1. 1.]\n",
            " [1. 1. 1.]\n",
            " [1. 1. 1.]\n",
            " [1. 1. 1.]\n",
            " [1. 1. 1.]]\n"
          ],
          "name": "stdout"
        }
      ]
    },
    {
      "cell_type": "code",
      "metadata": {
        "colab": {
          "base_uri": "https://localhost:8080/"
        },
        "id": "IY-50Drba9In",
        "outputId": "3c442049-51cc-465d-c17c-7248651343f2"
      },
      "source": [
        "#Making a tensor for reshaping \n",
        "tensor = tf.constant([[3,2],\n",
        "                     [5, 2],\n",
        "                     [9, 5],\n",
        "                     [1, 3]])\n",
        "#Reshaping the tensor into a shape of: shape = [rows, columns]\n",
        "reshaped_tensor = tf.reshape(tensor = tensor,\n",
        "                            shape = [1, 8])\n",
        "\n",
        "print(('Tensor BEFORE reshape:\\n{0}').format(\n",
        "    reshaped_tensor.numpy()\n",
        "))"
      ],
      "execution_count": 5,
      "outputs": [
        {
          "output_type": "stream",
          "text": [
            "Tensor BEFORE reshape:\n",
            "[[3 2 5 2 9 5 1 3]]\n"
          ],
          "name": "stdout"
        }
      ]
    },
    {
      "cell_type": "code",
      "metadata": {
        "colab": {
          "base_uri": "https://localhost:8080/"
        },
        "id": "MFAYdEWWa9In",
        "outputId": "e562ed53-a373-4b8b-a311-f95f4f2821cb"
      },
      "source": [
        "#Making a tensor\n",
        "tensor = tf.constant([[3.1, 2.8],\n",
        "                     [5.2, 2.3],\n",
        "                     [9.7, 5.5],\n",
        "                     [1.1, 3.4]],\n",
        "                     dtype=tf.float32)\n",
        "tensor_as_int = tf.cast(tensor, tf.int32)\n",
        "\n",
        "print(('Tensor with floats:\\n{0}').format(\n",
        "    tensor.numpy()\n",
        "))\n",
        "print(('\\nTensor cast from float to int (just remove the decimal, no rounding):\\n{0}').format(\n",
        "    tensor_as_int.numpy()\n",
        "))"
      ],
      "execution_count": 6,
      "outputs": [
        {
          "output_type": "stream",
          "text": [
            "Tensor with floats:\n",
            "[[3.1 2.8]\n",
            " [5.2 2.3]\n",
            " [9.7 5.5]\n",
            " [1.1 3.4]]\n",
            "\n",
            "Tensor cast from float to int (just remove the decimal, no rounding):\n",
            "[[3 2]\n",
            " [5 2]\n",
            " [9 5]\n",
            " [1 3]]\n"
          ],
          "name": "stdout"
        }
      ]
    },
    {
      "cell_type": "markdown",
      "metadata": {
        "id": "ur0tDqzNa9Io"
      },
      "source": [
        "# Linear Algebra Operations"
      ]
    },
    {
      "cell_type": "code",
      "metadata": {
        "colab": {
          "base_uri": "https://localhost:8080/"
        },
        "id": "nrOgTxpfa9Io",
        "outputId": "8e20bda2-cae3-43e8-b25d-5f8f48926c48"
      },
      "source": [
        "#Some Matrix A\n",
        "A = tf.constant([[3, 7],\n",
        "                [1, 9]])\n",
        "\n",
        "A = tf.transpose(A)\n",
        "\n",
        "print(('The transposed matrix A:\\n{0}').format(\n",
        "A\n",
        "))"
      ],
      "execution_count": 7,
      "outputs": [
        {
          "output_type": "stream",
          "text": [
            "The transposed matrix A:\n",
            "[[3 1]\n",
            " [7 9]]\n"
          ],
          "name": "stdout"
        }
      ]
    },
    {
      "cell_type": "code",
      "metadata": {
        "colab": {
          "base_uri": "https://localhost:8080/"
        },
        "id": "4jRQfHy4a9Io",
        "outputId": "083ba0d5-9289-4c78-9ced-b7b048bc6715"
      },
      "source": [
        "#Some Matrix  A\n",
        "A = tf.constant([[3, 7],\n",
        "                [1, 9]])\n",
        "\n",
        "#Some vector v\n",
        "v = tf.constant([[5],\n",
        "                [2]])\n",
        "\n",
        "#Matrix Multiplication of A.v^T\n",
        "Av = tf.matmul(A, v)\n",
        "\n",
        "print(('Matrix Multiplication of A and v results in a new Tensor:\\n{0}').format(\n",
        "    Av\n",
        "))"
      ],
      "execution_count": 8,
      "outputs": [
        {
          "output_type": "stream",
          "text": [
            "Matrix Multiplication of A and v results in a new Tensor:\n",
            "[[29]\n",
            " [23]]\n"
          ],
          "name": "stdout"
        }
      ]
    },
    {
      "cell_type": "code",
      "metadata": {
        "colab": {
          "base_uri": "https://localhost:8080/"
        },
        "id": "n_kggeSTa9Io",
        "outputId": "9d24b62d-0431-42a5-f76d-e8204f352afd"
      },
      "source": [
        "#Element-wise MUltiplication\n",
        "Av = tf.multiply(A, v)\n",
        "\n",
        "print(('Element-wise multiplication of A and v results in a new Tensor:\\n{0}').format(\n",
        "    Av\n",
        "))"
      ],
      "execution_count": 9,
      "outputs": [
        {
          "output_type": "stream",
          "text": [
            "Element-wise multiplication of A and v results in a new Tensor:\n",
            "[[15 35]\n",
            " [ 2 18]]\n"
          ],
          "name": "stdout"
        }
      ]
    },
    {
      "cell_type": "code",
      "metadata": {
        "colab": {
          "base_uri": "https://localhost:8080/"
        },
        "id": "gsosFo67a9Ip",
        "outputId": "62f79256-1a33-444a-cd43-5744492feb7b"
      },
      "source": [
        "#Some Matrix A\n",
        "A = tf.constant([[3, 7],\n",
        "                [1, 9],\n",
        "                [2, 5]])\n",
        "\n",
        "#Get number of dimensions\n",
        "rows, columns = A.shape\n",
        "print(('Get rows and columns in tensor A:\\n{0} rows\\n{1} columns').format(\n",
        "    rows, columns\n",
        "))\n",
        "\n",
        "#Making identity matrix\n",
        "A_identity =  tf.eye(num_rows = rows,\n",
        "                     num_columns = columns,\n",
        "                     dtype = tf.int32)\n",
        "print(('\\nThe identity matrix of A:\\n{0}').format(\n",
        "    A_identity.numpy()\n",
        "))"
      ],
      "execution_count": 10,
      "outputs": [
        {
          "output_type": "stream",
          "text": [
            "Get rows and columns in tensor A:\n",
            "3 rows\n",
            "2 columns\n",
            "\n",
            "The identity matrix of A:\n",
            "[[1 0]\n",
            " [0 1]\n",
            " [0 0]]\n"
          ],
          "name": "stdout"
        }
      ]
    },
    {
      "cell_type": "code",
      "metadata": {
        "colab": {
          "base_uri": "https://localhost:8080/"
        },
        "id": "DcfKv3Bwa9Ip",
        "outputId": "ddb62e58-29cc-4e9e-dff6-05e677a544e5"
      },
      "source": [
        "#Reusing  Matrix A\n",
        "A = tf.constant([[3, 7],\n",
        "                [1, 9]])\n",
        "\n",
        "#Determinant must be: half, float32, float64, complex64, complex128\n",
        "#Thus, we cast A to the data type float32\n",
        "A = tf.dtypes.cast(A, tf.float32)\n",
        "\n",
        "#Finding the determinant of A\n",
        "det_A = tf.linalg.det(A)\n",
        "\n",
        "print(('The determinant of A:\\n{0}').format(\n",
        "    det_A\n",
        "))"
      ],
      "execution_count": 11,
      "outputs": [
        {
          "output_type": "stream",
          "text": [
            "The determinant of A:\n",
            "20.000001907348633\n"
          ],
          "name": "stdout"
        }
      ]
    },
    {
      "cell_type": "code",
      "metadata": {
        "colab": {
          "base_uri": "https://localhost:8080/"
        },
        "id": "gctRcqvSa9Ip",
        "outputId": "10e76b9c-4450-4b87-f93a-adfea5b7f8fd"
      },
      "source": [
        "#Defining a 3*3 matrix\n",
        "A = tf.constant([[32, 83, 5],\n",
        "                [17, 23, 10],\n",
        "                [75, 39, 52]])\n",
        "\n",
        "#Defining another 3*3 matrix\n",
        "B = tf.constant([[28, 57, 20],\n",
        "                [91, 10, 95],\n",
        "                [37, 13, 45]])\n",
        "\n",
        "#Finding the dot product\n",
        "dot_AB = tf.tensordot(a=A, b=B, axes=1).numpy()\n",
        "\n",
        "print(('Dot product of A.B^T results in a new Tensor:\\n{0}').format(\n",
        "    dot_AB\n",
        "))\n",
        "\n",
        "#Which is the same as matrix multiplication in this instance(axes=1)\n",
        "AB = tf.matmul(A, B)\n",
        "\n",
        "print(('\\nMatrix Multiplication of A.B^T results in a new Tensor:\\n{0}').format(\n",
        "    AB\n",
        "))"
      ],
      "execution_count": 12,
      "outputs": [
        {
          "output_type": "stream",
          "text": [
            "Dot product of A.B^T results in a new Tensor:\n",
            "[[8634 2719 8750]\n",
            " [2939 1329 2975]\n",
            " [7573 5341 7545]]\n",
            "\n",
            "Matrix Multiplication of A.B^T results in a new Tensor:\n",
            "[[8634 2719 8750]\n",
            " [2939 1329 2975]\n",
            " [7573 5341 7545]]\n"
          ],
          "name": "stdout"
        }
      ]
    },
    {
      "cell_type": "markdown",
      "metadata": {
        "id": "n-my36Xva9Ip"
      },
      "source": [
        "# Calculating Gradients with Gradient Tape"
      ]
    },
    {
      "cell_type": "code",
      "metadata": {
        "colab": {
          "base_uri": "https://localhost:8080/"
        },
        "id": "rIRlLT9Aa9Ip",
        "outputId": "3f8e224f-6b0c-420a-afd7-08f8d2f716bc"
      },
      "source": [
        "import math\n",
        "\n",
        "def gelu(x):\n",
        "    return 0.5*x*(1+tf.tanh(tf.sqrt(2/math.pi)*(x+0.044715*tf.pow(x, 3))))\n",
        "\n",
        "def get_gradient(x, activation_function):\n",
        "    with tf.GradientTape() as gt:\n",
        "        y = activation_function(x)\n",
        "        \n",
        "    gradient = gt.gradient(y, x).numpy()\n",
        "    \n",
        "    return gradient\n",
        "\n",
        "x = tf.Variable(0.5)\n",
        "gradient = get_gradient(x, gelu)\n",
        "\n",
        "print('{0}  is the gradient of GELU with x={1}'.format(\n",
        "    gradient, x.numpy()\n",
        "))"
      ],
      "execution_count": 13,
      "outputs": [
        {
          "output_type": "stream",
          "text": [
            "0.8673698902130127  is the gradient of GELU with x=0.5\n"
          ],
          "name": "stdout"
        }
      ]
    },
    {
      "cell_type": "markdown",
      "metadata": {
        "id": "7MoTNDOIa9Ip"
      },
      "source": [
        "# Functions in TensorFlow with tf.function"
      ]
    },
    {
      "cell_type": "code",
      "metadata": {
        "colab": {
          "base_uri": "https://localhost:8080/"
        },
        "id": "Ruw09CDXa9Ip",
        "outputId": "df363ed5-27a8-4229-9835-7bbf6086f2cd"
      },
      "source": [
        "import timeit\n",
        "conv_layer = tf.keras.layers.Conv2D(100, 3)\n",
        "\n",
        "@tf.function\n",
        "def conv_fn(image):\n",
        "    return conv_layer(image)\n",
        "\n",
        "image = tf.zeros([1, 200, 200, 100])\n",
        "#warm up\n",
        "conv_layer(image); conv_fn(image)\n",
        "    \n",
        "no_tf_fn = timeit.timeit(lambda: conv_layer(image), number=10)\n",
        "with_tf_fn = timeit.timeit(lambda: conv_fn(image), number=10)\n",
        "difference = no_tf_fn - with_tf_fn\n",
        "\n",
        "print(\"Without tf.function: \", no_tf_fn)\n",
        "print(\"With tf.function: \", with_tf_fn)\n",
        "print(\"Difference times a billion: \", difference)"
      ],
      "execution_count": 14,
      "outputs": [
        {
          "output_type": "stream",
          "text": [
            "Without tf.function:  0.0033828619998530485\n",
            "With tf.function:  0.004586395999922388\n",
            "Difference times a billion:  -0.0012035340000693395\n"
          ],
          "name": "stdout"
        }
      ]
    },
    {
      "cell_type": "markdown",
      "metadata": {
        "id": "vBeJUDREa9Iq"
      },
      "source": [
        "# Custom Train and Test Functions for Neural Network"
      ]
    },
    {
      "cell_type": "code",
      "metadata": {
        "id": "aeKfMYaia9Iq"
      },
      "source": [
        "from __future__ import absolute_import, division, print_function, unicode_literals\n",
        "\n",
        "from tensorflow.keras.layers import Dense, Flatten, Conv2D\n",
        "from tensorflow.keras import Model\n",
        "\n",
        "tf.keras.backend.set_floatx('float64')\n",
        "\n",
        "mnist = tf.keras.datasets.mnist"
      ],
      "execution_count": 15,
      "outputs": []
    },
    {
      "cell_type": "code",
      "metadata": {
        "id": "Y_2sKp7wa9Iq"
      },
      "source": [
        "#Load Data & Remove color channels\n",
        "(x_train, y_train), (x_test, y_test) = mnist.load_data()\n",
        "x_train, x_test = x_train / 255.0, x_test / 255.0\n",
        "\n",
        "#Add a channels dimension\n",
        "x_train = x_train[..., tf.newaxis]\n",
        "x_test = x_test[..., tf.newaxis]\n",
        "\n",
        "train_ds = tf.data.Dataset.from_tensor_slices(\n",
        "    (x_train, y_train)).shuffle(10000).batch(32)\n",
        "\n",
        "test_ds = tf.data.Dataset.from_tensor_slices((x_test, y_test)).batch(32)"
      ],
      "execution_count": 16,
      "outputs": []
    },
    {
      "cell_type": "code",
      "metadata": {
        "id": "d1-wRKEKa9Iq"
      },
      "source": [
        "class MyModel(Model):\n",
        "    def __init__(self,\n",
        "                 loss_object,\n",
        "                 optimizer,\n",
        "                 train_loss,\n",
        "                 train_metric,\n",
        "                 test_loss,\n",
        "                 test_metric):\n",
        "    \n",
        "           #Setting all the variables for our model.\n",
        "        \n",
        "        super(MyModel, self).__init__()\n",
        "        self.conv1 = Conv2D(32, 3, activation='relu')\n",
        "        self.flatten = Flatten()\n",
        "        self.d1 = Dense(128, activation='relu')\n",
        "        self.d1 = Dense(10, activation='softmax')\n",
        "        \n",
        "        self.loss_object = loss_object\n",
        "        self.optimizer = optimizer\n",
        "        self.train_loss = train_loss\n",
        "        self.train_metric = train_metric\n",
        "        self.test_loss = test_loss\n",
        "        self.test_metric = test_metric"
      ],
      "execution_count": 17,
      "outputs": []
    },
    {
      "cell_type": "code",
      "metadata": {
        "id": "O9jTya7ta9Iq"
      },
      "source": [
        "        def nn_model(self, x):\n",
        "            '''\n",
        "               Defining the architecture of our model. This is where we run\n",
        "               through our whole dataset and return it, when training and \n",
        "               testing.\n",
        "            '''\n",
        "            \n",
        "            x = self.conv1(x)\n",
        "            x = self.flatten(x)\n",
        "            x = self.d1(x)\n",
        "            return self.d2(x)"
      ],
      "execution_count": 18,
      "outputs": []
    },
    {
      "cell_type": "code",
      "metadata": {
        "id": "aENMFTqea9Iq"
      },
      "source": [
        "@tf.function\n",
        "def train_step(self, images, labels):\n",
        "    '''\n",
        "       This is a Tensorflow function, run once for each epoch for the\n",
        "       whole input. We move forward first, then calculate gradients\n",
        "       with Gradient Tape to move backwards.\n",
        "    '''\n",
        "    with tf.GradientTape() as tape:\n",
        "        predictions = self.nn_model(images)\n",
        "        loss = self.loss_object(labels, predictions)\n",
        "    gradients = tape.gradient(loss, self.trainable_variables)\n",
        "    optimizer.apply_gradients(zip(\n",
        "                              gradients, self.trainable_variables))\n",
        "    self.train_loss(loss)\n",
        "    self.train_metric(labels, predictions)"
      ],
      "execution_count": 19,
      "outputs": []
    },
    {
      "cell_type": "code",
      "metadata": {
        "id": "fQHEL1Qka9Iq"
      },
      "source": [
        "@tf.function\n",
        "def test_step(self, images, labels):\n",
        "    '''\n",
        "       This is a Tensorflow function, run once for each epoch for the\n",
        "       whole input. \n",
        "    '''\n",
        "    \n",
        "    predictions = self.nn_model(images)\n",
        "    t_loss = self.loss_object(labels, predictions)\n",
        "        \n",
        "    self.test_loss(t_loss)\n",
        "    self.test_metric(labels, predictions)"
      ],
      "execution_count": 20,
      "outputs": []
    },
    {
      "cell_type": "code",
      "metadata": {
        "id": "wG11dJbGa9Ir"
      },
      "source": [
        "def fit(self, train, test, epochs):\n",
        "    '''\n",
        "       This fit function runs training and testing.\n",
        "    '''\n",
        "    for epoch in range(epochs):\n",
        "        for images, labels in train:\n",
        "            self.train_step(images, labels)\n",
        "        \n",
        "        for test_images, test_labels in test:\n",
        "            self.test_step(test_images, test_labels)\n",
        "            \n",
        "        template = 'Epoch {}, Loss: {}, Accuracy: {}, Test Loss: {}, Test Accurcay: {}'\n",
        "        print(template.format(epoch+1,\n",
        "                              self.train_loss.result(),\n",
        "                              self.train_metric.result()*100,\n",
        "                              self.test_loss.result(),\n",
        "                              self.test_metric.result()*100))\n",
        "        \n",
        "        #Reset the metrics for the next epoch \n",
        "        self.train_loss.reset_states(),\n",
        "        self.train_metric.reset_states(),\n",
        "        self.test_loss.reset_states(),\n",
        "        self.test_metric.reset_states()\n",
        "        "
      ],
      "execution_count": 21,
      "outputs": []
    },
    {
      "cell_type": "code",
      "metadata": {
        "id": "HxTVDIWha9Ir"
      },
      "source": [
        "#Make a loss object\n",
        "loss_object = tf.keras.losses.SparseCategoricalCrossentropy()\n",
        "\n",
        "#Select the optimizer\n",
        "optimizer = tf.keras.optimizers.Adam()\n",
        "\n",
        "#Specify the metrics for training\n",
        "train_loss = tf.keras.metrics.Mean(name='train_loss')\n",
        "train_metric = tf.keras.metrics.SparseCategoricalAccuracy(name='train_accuracy')\n",
        "\n",
        "#Specify the metrics for testing\n",
        "test_loss = tf.keras.metrics.Mean(name='test_loss')\n",
        "test_metric = tf.keras.metrics.SparseCategoricalAccuracy(name='test_accuracy')\n"
      ],
      "execution_count": 22,
      "outputs": []
    },
    {
      "cell_type": "code",
      "metadata": {
        "colab": {
          "base_uri": "https://localhost:8080/",
          "height": 316
        },
        "id": "9DeZXHnda9Ir",
        "outputId": "bef6e83d-bd65-492b-bde7-df576d50aceb"
      },
      "source": [
        "#Create an instance of the model\n",
        "model = MyModel(loss_object = loss_object,\n",
        "                optimizer = optimizer,\n",
        "                train_loss = train_loss,\n",
        "                train_metric = train_metric,\n",
        "                test_loss = test_loss,\n",
        "                test_metric = test_metric)\n",
        "\n",
        "EPOCHS = 5\n",
        "\n",
        "model.fit(train = train_ds,\n",
        "          test = test_ds,\n",
        "          epochs = EPOCHS)"
      ],
      "execution_count": 23,
      "outputs": [
        {
          "output_type": "error",
          "ename": "TypeError",
          "evalue": "ignored",
          "traceback": [
            "\u001b[0;31m---------------------------------------------------------------------------\u001b[0m",
            "\u001b[0;31mTypeError\u001b[0m                                 Traceback (most recent call last)",
            "\u001b[0;32m<ipython-input-23-74ede481558f>\u001b[0m in \u001b[0;36m<module>\u001b[0;34m()\u001b[0m\n\u001b[1;32m     11\u001b[0m model.fit(train = train_ds,\n\u001b[1;32m     12\u001b[0m           \u001b[0mtest\u001b[0m \u001b[0;34m=\u001b[0m \u001b[0mtest_ds\u001b[0m\u001b[0;34m,\u001b[0m\u001b[0;34m\u001b[0m\u001b[0;34m\u001b[0m\u001b[0m\n\u001b[0;32m---> 13\u001b[0;31m           epochs = EPOCHS)\n\u001b[0m",
            "\u001b[0;32m/usr/local/lib/python3.6/dist-packages/tensorflow/python/keras/engine/training.py\u001b[0m in \u001b[0;36m_method_wrapper\u001b[0;34m(self, *args, **kwargs)\u001b[0m\n\u001b[1;32m    106\u001b[0m   \u001b[0;32mdef\u001b[0m \u001b[0m_method_wrapper\u001b[0m\u001b[0;34m(\u001b[0m\u001b[0mself\u001b[0m\u001b[0;34m,\u001b[0m \u001b[0;34m*\u001b[0m\u001b[0margs\u001b[0m\u001b[0;34m,\u001b[0m \u001b[0;34m**\u001b[0m\u001b[0mkwargs\u001b[0m\u001b[0;34m)\u001b[0m\u001b[0;34m:\u001b[0m\u001b[0;34m\u001b[0m\u001b[0;34m\u001b[0m\u001b[0m\n\u001b[1;32m    107\u001b[0m     \u001b[0;32mif\u001b[0m \u001b[0;32mnot\u001b[0m \u001b[0mself\u001b[0m\u001b[0;34m.\u001b[0m\u001b[0m_in_multi_worker_mode\u001b[0m\u001b[0;34m(\u001b[0m\u001b[0;34m)\u001b[0m\u001b[0;34m:\u001b[0m  \u001b[0;31m# pylint: disable=protected-access\u001b[0m\u001b[0;34m\u001b[0m\u001b[0;34m\u001b[0m\u001b[0m\n\u001b[0;32m--> 108\u001b[0;31m       \u001b[0;32mreturn\u001b[0m \u001b[0mmethod\u001b[0m\u001b[0;34m(\u001b[0m\u001b[0mself\u001b[0m\u001b[0;34m,\u001b[0m \u001b[0;34m*\u001b[0m\u001b[0margs\u001b[0m\u001b[0;34m,\u001b[0m \u001b[0;34m**\u001b[0m\u001b[0mkwargs\u001b[0m\u001b[0;34m)\u001b[0m\u001b[0;34m\u001b[0m\u001b[0;34m\u001b[0m\u001b[0m\n\u001b[0m\u001b[1;32m    109\u001b[0m \u001b[0;34m\u001b[0m\u001b[0m\n\u001b[1;32m    110\u001b[0m     \u001b[0;31m# Running inside `run_distribute_coordinator` already.\u001b[0m\u001b[0;34m\u001b[0m\u001b[0;34m\u001b[0m\u001b[0;34m\u001b[0m\u001b[0m\n",
            "\u001b[0;31mTypeError\u001b[0m: fit() got an unexpected keyword argument 'train'"
          ]
        }
      ]
    },
    {
      "cell_type": "code",
      "metadata": {
        "id": "HNeucxAva9Ir"
      },
      "source": [
        ""
      ],
      "execution_count": null,
      "outputs": []
    }
  ]
}